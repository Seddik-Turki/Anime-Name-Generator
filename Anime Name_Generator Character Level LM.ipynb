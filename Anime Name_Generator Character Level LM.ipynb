{
  "cells": [
    {
      "cell_type": "markdown",
      "source": [
        "## Imports"
      ],
      "metadata": {
        "id": "DpVwRtXDOa4E"
      }
    },
    {
      "cell_type": "code",
      "execution_count": null,
      "metadata": {
        "colab": {
          "base_uri": "https://localhost:8080/"
        },
        "id": "4Jx5RAcCiYEw",
        "outputId": "7a5ecdc6-b59d-4500-ce71-9690586a5ca2"
      },
      "outputs": [
        {
          "output_type": "stream",
          "name": "stdout",
          "text": [
            "TF Version : 2.13.0\n"
          ]
        }
      ],
      "source": [
        "from matplotlib import pyplot as plt\n",
        "import numpy as np\n",
        "from sklearn.model_selection import train_test_split\n",
        "\n",
        "\n",
        "import tensorflow as tf\n",
        "from tensorflow.keras.preprocessing.text import Tokenizer\n",
        "from tensorflow.keras.preprocessing.sequence import pad_sequences\n",
        "\n",
        "from tensorflow.keras.models import Sequential\n",
        "from tensorflow.keras.layers import Embedding , Conv1D , MaxPool1D , LSTM , Dense , Dropout, SimpleRNN, GlobalAvgPool1D\n",
        "from tensorflow.keras.optimizers import Adam\n",
        "\n",
        "print(f'TF Version : {tf.__version__}')"
      ]
    },
    {
      "cell_type": "markdown",
      "source": [
        "## Data Preparation"
      ],
      "metadata": {
        "id": "-22HG-NjO-r1"
      }
    },
    {
      "cell_type": "markdown",
      "source": [
        "### Read Data"
      ],
      "metadata": {
        "id": "t0XYWGxpPFky"
      }
    },
    {
      "cell_type": "code",
      "source": [
        "file_path = 'anime.txt'"
      ],
      "metadata": {
        "id": "gjxo5djcAdLx"
      },
      "execution_count": null,
      "outputs": []
    },
    {
      "cell_type": "code",
      "execution_count": null,
      "metadata": {
        "id": "aMnqsIB_iyO2"
      },
      "outputs": [],
      "source": [
        "with open(file_path,'r') as f:\n",
        "  data = f.read()"
      ]
    },
    {
      "cell_type": "code",
      "execution_count": null,
      "metadata": {
        "colab": {
          "base_uri": "https://localhost:8080/"
        },
        "id": "rw7CUwACi5yQ",
        "outputId": "de5619e3-8395-4dad-86b6-a9631a0ad94a"
      },
      "outputs": [
        {
          "output_type": "stream",
          "name": "stdout",
          "text": [
            "['kumori', 'yukari', 'hajime', 'susano', 'midora', 'chiharu', 'masashi', 'yoshino', 'saika', 'sora', 'haruko', 'toru', 'rinn', 'hideo', 'tadashi', 'kairi', 'tsuki', 'taro', 'tatsuko', 'mariko', 'tadao', 'seiji', 'mai', 'nanami', 'amaya', 'nagisa', 'hoshiko', 'sonoko', 'michio', 'jiro', 'kimi', 'toshiro', 'umi', 'mukuro', 'chiyoko', 'tsukiko', 'kumiko', 'naomi', 'adae', 'kin', 'kurami', 'aoki', 'nadia', 'masahiro', 'hana', 'juro', 'kanae', 'mina', 'ayumi', 'hiroki', 'shinobu', 'mako', 'sesshomaru', 'ayame', 'ume', 'mikoto', 'masaaki', 'miyu', 'shun', 'leiko', 'miko', 'sasuke', 'hanako', 'shiori', 'luffy', 'masayuki', 'kiko', 'haruo', 'masumi', 'etsuko', 'miki', 'himeko', 'akira', 'kunio', 'ryuko', 'satashi', 'mirai', 'yomuro', 'chie', 'inazuma', 'noah', 'chieko', 'yana', 'hiroaki', 'katsuyuka', 'hiroto', 'mayu', 'renji', 'madara', 'kohana', 'yucie', 'kenpachi', 'hiroko', 'hinaki', 'sachi', 'seina', 'yoko', 'masahiko', 'akatsuki', 'masaki', 'kanna', 'marisa', 'yamoto', 'niko', 'rena', 'ayaka', 'mikio', 'hiraku', 'kotomi', 'kotone', 'aiko', 'mayumi', 'hiro', 'chouko', 'tamaki', 'kasuga', 'akemi', 'nariko', 'shinji', 'akito', 'chikako', 'katsuko', 'rito', 'kenichi', 'shoichi', 'mikan', 'masayoshi', 'hamabi', 'masao', 'larisa', 'kamado', 'hirato', 'yuna', 'nazuna', 'hayato', 'natsumi', 'sango', 'marina', 'aoi', 'shichiro', 'satuoru', 'nadeshiko', 'kouta', 'yujiro', 'kazuhiko', 'hideki', 'itachi', 'nisha', 'daisuke', 'mizuho', 'miku', 'yurine', 'nozomi', 'izanami', 'shouta', 'sayoko', 'kiara', 'miaka', 'narika', 'kuroko', 'luin', 'konoka', 'mutsu', 'hisako', 'aoba', 'kakashi', 'shoji', 'juri', 'hayate', 'hiei', 'thanatos', 'irina', 'kuroi', 'nina', 'noa', 'hiroyuki', 'pegasus', 'shiro', 'hiromi', 'uzui', 'mamoto', 'shizuka', 'shigeko', 'chiyo', 'kojiro', 'hiyori', 'netsuki', 'hisoka', 'nita', 'kokoro', 'yuzu', 'isao', 'mao', 'yuri', 'ren', 'jinzachiro', 'midori', 'hitomi', 'neko', 'haruna', 'naoko', 'mizuki', 'yuriko', 'yoake', 'kanon', 'shunsui', 'kazuo', 'harumi', 'yugi', 'yuzuki', 'madoka', 'hanyou', 'yogen', 'kazuha', 'narusegawa', 'misora', 'katsuo', 'asami', 'yume', 'kosaki', 'ayako', 'kagome', 'kaze', 'kaido', 'hinamori', 'muichiro', 'kazuki', 'kenzi', 'ayane', 'miho', 'misaki', 'haruhi', 'nagi', 'isamu', 'eiji', 'shizuko', 'katsu', 'usagi', 'tora', 'roko', 'momoko', 'wakana', 'kirito', 'hiroshi', 'gaara', 'natsuki', 'aika', 'misato', 'kimiko', 'toriko', 'shizuku', 'nori', 'tanjiro', 'aimi', 'natsu', 'hikaru', 'ryo', 'tomioka', 'emi', 'minato', 'kasumi', 'ayano', 'hotaru', 'eiko', 'kato', 'mio', 'minami', 'miyuki', 'uzumaki', 'manami', 'maka', 'kohaku', 'moriko', 'yuki', 'katsumi', 'koharu', 'kage', 'kenta', 'haku', 'kaede', 'yami', 'satomi', 'osamu', 'kashi', 'hina', 'obito', 'saki', 'yuuki', 'nagato', 'soraia', 'goro', 'nikita', 'yumi', 'keiko', 'kitsune', 'hinata', 'hotaka', 'noboru', 'yukito', 'kyo', 'kuro', 'kaname', 'hideaki', 'tomio', 'byakuya', 'harujiro', 'naruto', 'anzu', 'aokiji', 'nika', 'maya', 'masuyo', 'hoshi', 'kazuko', 'kasai', 'kurai', 'yue', 'fumiko', 'tanaka', 'junichi', 'hatori', 'kaoru', 'itokichi', 'taiki', 'hatsuna', 'makoto', 'shika', 'toshiko', 'masami', 'noburu', 'mitsuko', 'nao', 'chinatsu', 'honoka', 'anju', 'kanako', 'takashi', 'sumiko', 'azami', 'nishino', 'ryuu', 'nishiki', 'asuna', 'gohan', 'mei', 'umeko', 'azusa', 'kyouko', 'deidara', 'mitsuri', 'ichiro', 'azuma', 'suzume', 'michiko', 'sakura', 'satsuki', 'riku', 'nami', 'emiko', 'inuyasha', 'misa', 'rina', 'sumire', 'miwa', 'mika', 'kiyoko', 'kazue', 'kuma', 'tokito', 'naraku', 'ryoto', 'manabu', 'sachiko', 'jirachi', 'karin', 'hikari', 'ryuji', 'hime', 'kenshin', 'haruka', 'sanji', 'rikuto', 'kichiro', 'maki', 'yukiko', 'kurumi', 'touko', 'yoriko', 'yukino', 'sayaka', 'tetsuo', 'masaru', 'kietsu', 'sayuri', 'miyako', 'katashi', 'momoe', 'ishiro', 'rumi', 'chino', 'kiku', 'ayumu', 'kaito', 'riko', 'tirich', 'hayari', 'rin', 'anri', 'yui', 'hanayo', 'onime', 'haruto', 'satoko', 'yua', 'mieko', 'tomiko', 'izumi', 'takara', 'asuka', 'emeraude', 'hisashi', 'killua', 'rokuro', 'junko', 'kana', 'shuichi', 'mikasa', 'ryuunosuke', 'mitsuo', 'ryoko', 'norio', 'ryou', 'neon', 'koumori', 'atsuko', 'kirara', 'haru', 'akihiro', 'akane', 'hitoshi', 'yamato', 'chibi', 'akio', 'fumio', 'masanori', 'goku', 'megumi', 'lina', 'susumu', 'momoka', 'airi', 'saburo', 'chika', 'kamiko', 'rika', 'minako', 'kaori', 'miroku', 'kiyoshi', 'kyoko', 'kikyo', 'tsubaki', 'ichigo']\n",
            "names found : 463\n"
          ]
        }
      ],
      "source": [
        "lines = data.splitlines()\n",
        "names = [l.strip().lower() for l in lines]\n",
        "np.random.shuffle(names)\n",
        "print(names)\n",
        "print(f'names found : {len(names)}')"
      ]
    },
    {
      "cell_type": "markdown",
      "source": [
        "### Tokenization"
      ],
      "metadata": {
        "id": "-5mW4aIbPIQ6"
      }
    },
    {
      "cell_type": "code",
      "execution_count": null,
      "metadata": {
        "id": "dKm7RIqVj1Pw"
      },
      "outputs": [],
      "source": [
        "data_ = '\\t\\n'.join(names)\n",
        "tokenizer = Tokenizer(\n",
        "    filters='!\"#$%&()*+,-./:;<=>?@[\\\\]^_`{|}~',\n",
        "    split='\\t',\n",
        ")\n",
        "tokenizer.fit_on_texts(data_)"
      ]
    },
    {
      "cell_type": "code",
      "execution_count": null,
      "metadata": {
        "colab": {
          "base_uri": "https://localhost:8080/"
        },
        "id": "EVdceYvfj7tf",
        "outputId": "480199f7-2390-4a31-e686-b51e7fc9fa41"
      },
      "outputs": [
        {
          "output_type": "stream",
          "name": "stdout",
          "text": [
            "{'\\n': 1, 'a': 2, 'i': 3, 'o': 4, 'k': 5, 'u': 6, 'm': 7, 's': 8, 'h': 9, 'r': 10, 'n': 11, 't': 12, 'y': 13, 'e': 14, 'c': 15, 'z': 16, 'j': 17, 'd': 18, 'g': 19, 'b': 20, 'l': 21, 'f': 22, 'w': 23, 'p': 24}\n",
            "Number of characters to be predicted: 25\n"
          ]
        }
      ],
      "source": [
        "char_to_index = tokenizer.word_index\n",
        "index_to_char = dict((v,k) for k , v in char_to_index.items())\n",
        "print(char_to_index)\n",
        "\n",
        "num_chars = len(char_to_index.keys()) + 1\n",
        "print(f'Number of characters to be predicted: {num_chars}')"
      ]
    },
    {
      "cell_type": "code",
      "execution_count": null,
      "metadata": {
        "colab": {
          "base_uri": "https://localhost:8080/"
        },
        "id": "XH2Qsmq8kkjI",
        "outputId": "2e47ca0f-9cb4-4d96-ac65-d0d3bd575a98"
      },
      "outputs": [
        {
          "output_type": "execute_result",
          "data": {
            "text/plain": [
              "['kumori\\n', 'yukari\\n', 'hajime\\n', 'susano\\n', 'midora\\n']"
            ]
          },
          "metadata": {},
          "execution_count": 38
        }
      ],
      "source": [
        "names = [n + '\\n' for n in names] # add '\\n' at the end of each japanese anime name\n",
        "names[:5]"
      ]
    },
    {
      "cell_type": "code",
      "execution_count": null,
      "metadata": {
        "colab": {
          "base_uri": "https://localhost:8080/"
        },
        "id": "TDghQbwbkMyI",
        "outputId": "6ada3da5-44d6-48d7-aa86-cae33a618349"
      },
      "outputs": [
        {
          "output_type": "stream",
          "name": "stdout",
          "text": [
            "yucie\n",
            "[[13], [6], [15], [3], [14], [1]]\n"
          ]
        }
      ],
      "source": [
        "name = np.random.choice(names)\n",
        "print(name,end='')\n",
        "seq = tokenizer.texts_to_sequences(name)\n",
        "print(seq)"
      ]
    },
    {
      "cell_type": "code",
      "execution_count": null,
      "metadata": {
        "id": "nDhvKyjHkUpJ"
      },
      "outputs": [],
      "source": [
        "def names_to_seq(names):\n",
        "  return [tokenizer.texts_to_sequences(c)[0][0] for c in names]"
      ]
    },
    {
      "cell_type": "code",
      "execution_count": null,
      "metadata": {
        "colab": {
          "base_uri": "https://localhost:8080/"
        },
        "id": "6ACrTnKsk0Yg",
        "outputId": "ff5705c0-ef81-4756-b049-0821330f56b8"
      },
      "outputs": [
        {
          "output_type": "execute_result",
          "data": {
            "text/plain": [
              "[5, 6, 7, 4, 10, 3, 1]"
            ]
          },
          "metadata": {},
          "execution_count": 41
        }
      ],
      "source": [
        "names_to_seq(names[0])"
      ]
    },
    {
      "cell_type": "code",
      "execution_count": null,
      "metadata": {
        "id": "qKx1GVIGlPYm"
      },
      "outputs": [],
      "source": [
        "def seq_to_name(seq):\n",
        "  return ''.join([index_to_char[i] for i in seq if i!=0])"
      ]
    },
    {
      "cell_type": "code",
      "execution_count": null,
      "metadata": {
        "colab": {
          "base_uri": "https://localhost:8080/",
          "height": 35
        },
        "id": "fQxO8bG-lPxC",
        "outputId": "6631ea77-6210-4952-8725-928048a5ffab"
      },
      "outputs": [
        {
          "output_type": "execute_result",
          "data": {
            "text/plain": [
              "'kumori\\n'"
            ],
            "application/vnd.google.colaboratory.intrinsic+json": {
              "type": "string"
            }
          },
          "metadata": {},
          "execution_count": 44
        }
      ],
      "source": [
        "seq_to_name([5, 6, 7, 4, 10, 3, 1])"
      ]
    },
    {
      "cell_type": "markdown",
      "source": [
        "### Create Data"
      ],
      "metadata": {
        "id": "8Wlfua-gPra3"
      }
    },
    {
      "cell_type": "code",
      "execution_count": null,
      "metadata": {
        "id": "r7PrK0ZelVo_"
      },
      "outputs": [],
      "source": [
        "sequences = []\n",
        "for name in names :\n",
        "  seq = names_to_seq(name)\n",
        "  if len(seq) >=2 :\n",
        "    sequences += [seq[:i] for i in range(2,len(seq) + 1)]"
      ]
    },
    {
      "cell_type": "code",
      "execution_count": null,
      "metadata": {
        "colab": {
          "base_uri": "https://localhost:8080/"
        },
        "id": "TRk4cPBslaj2",
        "outputId": "091e8610-27cc-438a-c937-0dc1230101e5"
      },
      "outputs": [
        {
          "output_type": "execute_result",
          "data": {
            "text/plain": [
              "[[5, 6],\n",
              " [5, 6, 7],\n",
              " [5, 6, 7, 4],\n",
              " [5, 6, 7, 4, 10],\n",
              " [5, 6, 7, 4, 10, 3],\n",
              " [5, 6, 7, 4, 10, 3, 1]]"
            ]
          },
          "metadata": {},
          "execution_count": 49
        }
      ],
      "source": [
        "sequences[:6]"
      ]
    },
    {
      "cell_type": "markdown",
      "source": [
        "### Padding"
      ],
      "metadata": {
        "id": "rP99jpGEPiLC"
      }
    },
    {
      "cell_type": "code",
      "execution_count": null,
      "metadata": {
        "colab": {
          "base_uri": "https://localhost:8080/"
        },
        "id": "FF0RH_2Alif_",
        "outputId": "1a3391c0-4202-44b8-b38b-d7956d94cb92"
      },
      "outputs": [
        {
          "output_type": "stream",
          "name": "stdout",
          "text": [
            "length of longest anime name :  11\n"
          ]
        }
      ],
      "source": [
        "max_len = max([len(x) for x in sequences])\n",
        "print(f'length of longest {file_path[:-4]} name : ',max_len)"
      ]
    },
    {
      "cell_type": "code",
      "execution_count": null,
      "metadata": {
        "colab": {
          "base_uri": "https://localhost:8080/"
        },
        "id": "OrC0vZA6luVr",
        "outputId": "bd48570e-26bf-4062-e0cb-58c2f59ba514"
      },
      "outputs": [
        {
          "output_type": "stream",
          "name": "stdout",
          "text": [
            "[0 0 0 0 0 0 0 0 0 5 6]\n"
          ]
        },
        {
          "output_type": "execute_result",
          "data": {
            "text/plain": [
              "(2563, 11)"
            ]
          },
          "metadata": {},
          "execution_count": 52
        }
      ],
      "source": [
        "padded_sequences = pad_sequences(\n",
        "    sequences ,\n",
        "    padding = 'pre',\n",
        "    maxlen = max_len\n",
        ")\n",
        "\n",
        "print(padded_sequences[0])\n",
        "padded_sequences.shape"
      ]
    },
    {
      "cell_type": "code",
      "execution_count": null,
      "metadata": {
        "colab": {
          "base_uri": "https://localhost:8080/"
        },
        "id": "KX3RdDg2l1vc",
        "outputId": "b8c8bb9d-fe61-4dc7-f27f-5594bb3bdfbc"
      },
      "outputs": [
        {
          "output_type": "stream",
          "name": "stdout",
          "text": [
            "(2563, 10) (2563,)\n"
          ]
        }
      ],
      "source": [
        "X , Y = padded_sequences[:,:-1] , padded_sequences[:,-1]\n",
        "print(X.shape,Y.shape)"
      ]
    },
    {
      "cell_type": "code",
      "execution_count": null,
      "metadata": {
        "colab": {
          "base_uri": "https://localhost:8080/"
        },
        "id": "q7Yok-M_l7uu",
        "outputId": "d8b14c8a-7df4-40d7-e43b-f0ebe8097cf3"
      },
      "outputs": [
        {
          "output_type": "execute_result",
          "data": {
            "text/plain": [
              "(array([ 0,  0,  0,  0,  0,  0,  0,  0,  0,  0,  0,  0,  0,  0,  0,  0,  0,\n",
              "         0,  0,  0,  0,  0,  0,  0,  0, 16], dtype=int32),\n",
              " 8)"
            ]
          },
          "metadata": {},
          "execution_count": 19
        }
      ],
      "source": [
        "X[0],Y[0]"
      ]
    },
    {
      "cell_type": "markdown",
      "source": [
        "### Train Test Split"
      ],
      "metadata": {
        "id": "xwfT-xQVPv38"
      }
    },
    {
      "cell_type": "code",
      "execution_count": null,
      "metadata": {
        "colab": {
          "base_uri": "https://localhost:8080/"
        },
        "id": "Ptk_HNdm5Fxw",
        "outputId": "9a14d6ca-361e-4ed9-bf85-9fcafdd44b0f"
      },
      "outputs": [
        {
          "name": "stdout",
          "output_type": "stream",
          "text": [
            "Train Data : (6689, 17) , (6689,)\n",
            "Test Data : (2230, 17) , (2230,)\n"
          ]
        }
      ],
      "source": [
        "x_train , x_test , y_train , y_test = train_test_split(X,Y)\n",
        "\n",
        "print(f'Train Data : {x_train.shape} , {y_train.shape}')\n",
        "print(f'Test Data : {x_test.shape} , {y_test.shape}')"
      ]
    },
    {
      "cell_type": "markdown",
      "source": [
        "## Building Model"
      ],
      "metadata": {
        "id": "l5mO72CgPx6q"
      }
    },
    {
      "cell_type": "code",
      "execution_count": null,
      "metadata": {
        "colab": {
          "base_uri": "https://localhost:8080/"
        },
        "id": "K8y8n5xKm8uD",
        "outputId": "9d5d8ede-690d-4a42-c13e-9ac04ed3d9b6"
      },
      "outputs": [
        {
          "output_type": "stream",
          "name": "stdout",
          "text": [
            "Model: \"sequential_2\"\n",
            "_________________________________________________________________\n",
            " Layer (type)                Output Shape              Param #   \n",
            "=================================================================\n",
            " embedding_2 (Embedding)     (None, 10, 16)            400       \n",
            "                                                                 \n",
            " conv1d_2 (Conv1D)           (None, 10, 64)            5184      \n",
            "                                                                 \n",
            " max_pooling1d_2 (MaxPoolin  (None, 5, 64)             0         \n",
            " g1D)                                                            \n",
            "                                                                 \n",
            " global_average_pooling1d_2  (None, 64)                0         \n",
            "  (GlobalAveragePooling1D)                                       \n",
            "                                                                 \n",
            " dense_4 (Dense)             (None, 128)               8320      \n",
            "                                                                 \n",
            " dropout_2 (Dropout)         (None, 128)               0         \n",
            "                                                                 \n",
            " dense_5 (Dense)             (None, 25)                3225      \n",
            "                                                                 \n",
            "=================================================================\n",
            "Total params: 17129 (66.91 KB)\n",
            "Trainable params: 17129 (66.91 KB)\n",
            "Non-trainable params: 0 (0.00 Byte)\n",
            "_________________________________________________________________\n"
          ]
        }
      ],
      "source": [
        "model = Sequential([\n",
        "    Embedding(num_chars , 16 , input_length = max_len - 1),\n",
        "    Conv1D(64 , 5 , strides = 1 , padding = 'causal' , activation = 'tanh'),\n",
        "    MaxPool1D(2),\n",
        "\n",
        "    GlobalAvgPool1D(),\n",
        "\n",
        "    Dense(128),\n",
        "    Dropout(0.1),\n",
        "    Dense(num_chars , activation = 'softmax')\n",
        "    ]\n",
        ")\n",
        "optimizer = Adam(learning_rate=1e-3)\n",
        "model.compile(\n",
        "    loss = 'sparse_categorical_crossentropy',\n",
        "    optimizer = optimizer,\n",
        "    metrics = ['accuracy']\n",
        ")\n",
        "model.summary()"
      ]
    },
    {
      "cell_type": "markdown",
      "source": [
        "## Callback for Anime name generation"
      ],
      "metadata": {
        "id": "kpw33zjRvSoP"
      }
    },
    {
      "cell_type": "code",
      "execution_count": null,
      "metadata": {
        "id": "fQEzQaaIozHF"
      },
      "outputs": [],
      "source": [
        "def generate_name():\n",
        "  chars_ = list(char_to_index.keys())\n",
        "  chars_.remove('\\n')\n",
        "  seed = np.random.choice(chars_)\n",
        "  for _ in range(0,max_len):\n",
        "    seq = names_to_seq(seed)\n",
        "    seq = pad_sequences(\n",
        "        [seq],\n",
        "        truncating = 'pre',\n",
        "        padding = 'pre',\n",
        "        maxlen = max_len - 1\n",
        "    )\n",
        "    y = model.predict(seq , verbose = 0)\n",
        "    if np.isnan(y).any():\n",
        "      return ''\n",
        "\n",
        "    y = y.ravel()\n",
        "    index = np.random.choice(list(range(num_chars)),p=y)\n",
        "    #index = np.argmax(y)\n",
        "    if index == 0:\n",
        "      return seed\n",
        "    char_pred = index_to_char[index]\n",
        "    seed += char_pred\n",
        "    if char_pred == '\\n':\n",
        "      return seed[:-1]\n",
        "  return seed\n",
        "\n",
        "\n",
        "class GenerateNameCallback(tf.keras.callbacks.Callback):\n",
        "    def on_epoch_end(self, epoch, logs=None):\n",
        "      if epoch % 10 == 0 :\n",
        "        print('\\n')\n",
        "        print(f'[#] Generating some {file_path[:-4][0].upper() + file_path[:-4][1:]}:')\n",
        "        for _ in range(7):\n",
        "          anime = generate_name()\n",
        "          if anime != '':\n",
        "            print(anime[0].upper() + anime[1:])\n",
        "        print('\\n')"
      ]
    },
    {
      "cell_type": "markdown",
      "source": [
        "### Train Model"
      ],
      "metadata": {
        "id": "zPmI2oMkP1ZL"
      }
    },
    {
      "cell_type": "code",
      "execution_count": null,
      "metadata": {
        "colab": {
          "base_uri": "https://localhost:8080/"
        },
        "id": "o2pf-lUfn7F1",
        "outputId": "e426fc4f-b68b-4fa2-e31d-fba190e0a8b2"
      },
      "outputs": [
        {
          "output_type": "stream",
          "name": "stdout",
          "text": [
            "Epoch 1/128\n",
            "69/81 [========================>.....] - ETA: 0s - loss: 1.7007 - accuracy: 0.4357\n",
            "\n",
            "[#] Generating some Anime:\n",
            "Fami\n",
            "Nami\n",
            "Giro\n",
            "Eshiro\n",
            "Cahiko\n",
            "Omi\n",
            "Hiro\n",
            "\n",
            "\n",
            "81/81 [==============================] - 2s 22ms/step - loss: 1.6980 - accuracy: 0.4378\n",
            "Epoch 2/128\n",
            "81/81 [==============================] - 0s 4ms/step - loss: 1.6858 - accuracy: 0.4417\n",
            "Epoch 3/128\n",
            "81/81 [==============================] - 0s 4ms/step - loss: 1.6731 - accuracy: 0.4464\n",
            "Epoch 4/128\n",
            "81/81 [==============================] - 0s 4ms/step - loss: 1.6595 - accuracy: 0.4526\n",
            "Epoch 5/128\n",
            "81/81 [==============================] - 0s 4ms/step - loss: 1.6459 - accuracy: 0.4545\n",
            "Epoch 6/128\n",
            "81/81 [==============================] - 0s 4ms/step - loss: 1.6342 - accuracy: 0.4565\n",
            "Epoch 7/128\n",
            "81/81 [==============================] - 0s 4ms/step - loss: 1.6241 - accuracy: 0.4627\n",
            "Epoch 8/128\n",
            "81/81 [==============================] - 0s 4ms/step - loss: 1.6078 - accuracy: 0.4620\n",
            "Epoch 9/128\n",
            "81/81 [==============================] - 0s 6ms/step - loss: 1.5905 - accuracy: 0.4780\n",
            "Epoch 10/128\n",
            "81/81 [==============================] - 0s 4ms/step - loss: 1.5836 - accuracy: 0.4776\n",
            "Epoch 11/128\n",
            "81/81 [==============================] - ETA: 0s - loss: 1.5641 - accuracy: 0.4741\n",
            "\n",
            "[#] Generating some Anime:\n",
            "Chiro\n",
            "Riko\n",
            "Nami\n",
            "Nami\n",
            "Biro\n",
            "Kana\n",
            "Jiro\n",
            "\n",
            "\n",
            "81/81 [==============================] - 2s 21ms/step - loss: 1.5641 - accuracy: 0.4741\n",
            "Epoch 12/128\n",
            "81/81 [==============================] - 0s 4ms/step - loss: 1.5579 - accuracy: 0.4881\n",
            "Epoch 13/128\n",
            "81/81 [==============================] - 0s 4ms/step - loss: 1.5498 - accuracy: 0.4904\n",
            "Epoch 14/128\n",
            "81/81 [==============================] - 0s 4ms/step - loss: 1.5400 - accuracy: 0.4932\n",
            "Epoch 15/128\n",
            "81/81 [==============================] - 0s 4ms/step - loss: 1.5320 - accuracy: 0.4877\n",
            "Epoch 16/128\n",
            "81/81 [==============================] - 0s 4ms/step - loss: 1.5185 - accuracy: 0.4799\n",
            "Epoch 17/128\n",
            "81/81 [==============================] - 0s 6ms/step - loss: 1.5049 - accuracy: 0.4908\n",
            "Epoch 18/128\n",
            "81/81 [==============================] - 0s 4ms/step - loss: 1.4995 - accuracy: 0.4963\n",
            "Epoch 19/128\n",
            "81/81 [==============================] - 0s 4ms/step - loss: 1.4855 - accuracy: 0.5064\n",
            "Epoch 20/128\n",
            "81/81 [==============================] - 0s 5ms/step - loss: 1.4815 - accuracy: 0.4920\n",
            "Epoch 21/128\n",
            "79/81 [============================>.] - ETA: 0s - loss: 1.4703 - accuracy: 0.5071\n",
            "\n",
            "[#] Generating some Anime:\n",
            "Gan\n",
            "Bun\n",
            "Ami\n",
            "Lana\n",
            "Jiro\n",
            "Ami\n",
            "Dayaki\n",
            "\n",
            "\n",
            "81/81 [==============================] - 2s 28ms/step - loss: 1.4728 - accuracy: 0.5068\n",
            "Epoch 22/128\n",
            "81/81 [==============================] - 0s 4ms/step - loss: 1.4686 - accuracy: 0.5053\n",
            "Epoch 23/128\n",
            "81/81 [==============================] - 0s 4ms/step - loss: 1.4609 - accuracy: 0.5099\n",
            "Epoch 24/128\n",
            "81/81 [==============================] - 0s 4ms/step - loss: 1.4411 - accuracy: 0.5174\n",
            "Epoch 25/128\n",
            "81/81 [==============================] - 0s 4ms/step - loss: 1.4552 - accuracy: 0.5041\n",
            "Epoch 26/128\n",
            "81/81 [==============================] - 0s 4ms/step - loss: 1.4293 - accuracy: 0.5178\n",
            "Epoch 27/128\n",
            "81/81 [==============================] - 0s 4ms/step - loss: 1.4291 - accuracy: 0.5166\n",
            "Epoch 28/128\n",
            "81/81 [==============================] - 0s 4ms/step - loss: 1.4116 - accuracy: 0.5146\n",
            "Epoch 29/128\n",
            "81/81 [==============================] - 0s 4ms/step - loss: 1.4010 - accuracy: 0.5306\n",
            "Epoch 30/128\n",
            "81/81 [==============================] - 1s 6ms/step - loss: 1.3959 - accuracy: 0.5248\n",
            "Epoch 31/128\n",
            "81/81 [==============================] - ETA: 0s - loss: 1.3916 - accuracy: 0.5267\n",
            "\n",
            "[#] Generating some Anime:\n",
            "Ensu\n",
            "Buno\n",
            "Nariko\n",
            "Umiri\n",
            "Rin\n",
            "Sanura\n",
            "Rin\n",
            "\n",
            "\n",
            "81/81 [==============================] - 2s 22ms/step - loss: 1.3916 - accuracy: 0.5267\n",
            "Epoch 32/128\n",
            "81/81 [==============================] - 0s 4ms/step - loss: 1.3870 - accuracy: 0.5322\n",
            "Epoch 33/128\n",
            "81/81 [==============================] - 0s 4ms/step - loss: 1.3804 - accuracy: 0.5314\n",
            "Epoch 34/128\n",
            "81/81 [==============================] - 0s 4ms/step - loss: 1.3710 - accuracy: 0.5256\n",
            "Epoch 35/128\n",
            "81/81 [==============================] - 0s 4ms/step - loss: 1.3623 - accuracy: 0.5357\n",
            "Epoch 36/128\n",
            "81/81 [==============================] - 0s 4ms/step - loss: 1.3539 - accuracy: 0.5384\n",
            "Epoch 37/128\n",
            "81/81 [==============================] - 0s 4ms/step - loss: 1.3515 - accuracy: 0.5435\n",
            "Epoch 38/128\n",
            "81/81 [==============================] - 0s 4ms/step - loss: 1.3407 - accuracy: 0.5377\n",
            "Epoch 39/128\n",
            "81/81 [==============================] - 0s 4ms/step - loss: 1.3334 - accuracy: 0.5435\n",
            "Epoch 40/128\n",
            "81/81 [==============================] - 0s 4ms/step - loss: 1.3344 - accuracy: 0.5416\n",
            "Epoch 41/128\n",
            "75/81 [==========================>...] - ETA: 0s - loss: 1.3341 - accuracy: 0.5392\n",
            "\n",
            "[#] Generating some Anime:\n",
            "Rina\n",
            "Bina\n",
            "Kanami\n",
            "Isaka\n",
            "Bina\n",
            "Payumi\n",
            "Daesaka\n",
            "\n",
            "\n",
            "81/81 [==============================] - 2s 29ms/step - loss: 1.3301 - accuracy: 0.5423\n",
            "Epoch 42/128\n",
            "81/81 [==============================] - 0s 6ms/step - loss: 1.3178 - accuracy: 0.5373\n",
            "Epoch 43/128\n",
            "81/81 [==============================] - 0s 6ms/step - loss: 1.3095 - accuracy: 0.5435\n",
            "Epoch 44/128\n",
            "81/81 [==============================] - 0s 6ms/step - loss: 1.3058 - accuracy: 0.5458\n",
            "Epoch 45/128\n",
            "81/81 [==============================] - 0s 4ms/step - loss: 1.2966 - accuracy: 0.5462\n",
            "Epoch 46/128\n",
            "81/81 [==============================] - 0s 4ms/step - loss: 1.2851 - accuracy: 0.5517\n",
            "Epoch 47/128\n",
            "81/81 [==============================] - 0s 4ms/step - loss: 1.2889 - accuracy: 0.5494\n",
            "Epoch 48/128\n",
            "81/81 [==============================] - 0s 4ms/step - loss: 1.2834 - accuracy: 0.5494\n",
            "Epoch 49/128\n",
            "81/81 [==============================] - 0s 4ms/step - loss: 1.2645 - accuracy: 0.5575\n",
            "Epoch 50/128\n",
            "81/81 [==============================] - 0s 4ms/step - loss: 1.2728 - accuracy: 0.5509\n",
            "Epoch 51/128\n",
            "81/81 [==============================] - ETA: 0s - loss: 1.2672 - accuracy: 0.5536\n",
            "\n",
            "[#] Generating some Anime:\n",
            "Fumiko\n",
            "Yuki\n",
            "Wakato\n",
            "Wakato\n",
            "Jiro\n",
            "Toshiro\n",
            "Nariko\n",
            "\n",
            "\n",
            "81/81 [==============================] - 2s 26ms/step - loss: 1.2672 - accuracy: 0.5536\n",
            "Epoch 52/128\n",
            "81/81 [==============================] - 0s 4ms/step - loss: 1.2584 - accuracy: 0.5607\n",
            "Epoch 53/128\n",
            "81/81 [==============================] - 0s 4ms/step - loss: 1.2612 - accuracy: 0.5552\n",
            "Epoch 54/128\n",
            "81/81 [==============================] - 0s 4ms/step - loss: 1.2476 - accuracy: 0.5618\n",
            "Epoch 55/128\n",
            "81/81 [==============================] - 0s 4ms/step - loss: 1.2337 - accuracy: 0.5677\n",
            "Epoch 56/128\n",
            "81/81 [==============================] - 0s 4ms/step - loss: 1.2323 - accuracy: 0.5661\n",
            "Epoch 57/128\n",
            "81/81 [==============================] - 0s 4ms/step - loss: 1.2281 - accuracy: 0.5669\n",
            "Epoch 58/128\n",
            "81/81 [==============================] - 0s 4ms/step - loss: 1.2206 - accuracy: 0.5708\n",
            "Epoch 59/128\n",
            "81/81 [==============================] - 1s 7ms/step - loss: 1.2155 - accuracy: 0.5646\n",
            "Epoch 60/128\n",
            "81/81 [==============================] - 1s 6ms/step - loss: 1.1977 - accuracy: 0.5767\n",
            "Epoch 61/128\n",
            "78/81 [===========================>..] - ETA: 0s - loss: 1.2016 - accuracy: 0.5797\n",
            "\n",
            "[#] Generating some Anime:\n",
            "Anami\n",
            "Waka\n",
            "Payuma\n",
            "Gasak\n",
            "Layu\n",
            "Izana\n",
            "Taka\n",
            "\n",
            "\n",
            "81/81 [==============================] - 3s 40ms/step - loss: 1.2051 - accuracy: 0.5798\n",
            "Epoch 62/128\n",
            "81/81 [==============================] - 0s 6ms/step - loss: 1.2019 - accuracy: 0.5810\n",
            "Epoch 63/128\n",
            "81/81 [==============================] - 0s 6ms/step - loss: 1.1984 - accuracy: 0.5868\n",
            "Epoch 64/128\n",
            "81/81 [==============================] - 0s 5ms/step - loss: 1.1895 - accuracy: 0.5829\n",
            "Epoch 65/128\n",
            "81/81 [==============================] - 0s 4ms/step - loss: 1.1781 - accuracy: 0.5817\n",
            "Epoch 66/128\n",
            "81/81 [==============================] - 0s 4ms/step - loss: 1.1807 - accuracy: 0.5903\n",
            "Epoch 67/128\n",
            "81/81 [==============================] - 0s 4ms/step - loss: 1.1720 - accuracy: 0.5817\n",
            "Epoch 68/128\n",
            "81/81 [==============================] - 0s 4ms/step - loss: 1.1671 - accuracy: 0.5853\n",
            "Epoch 69/128\n",
            "81/81 [==============================] - 0s 4ms/step - loss: 1.1623 - accuracy: 0.5899\n",
            "Epoch 70/128\n",
            "81/81 [==============================] - 0s 4ms/step - loss: 1.1625 - accuracy: 0.5907\n",
            "Epoch 71/128\n",
            "80/81 [============================>.] - ETA: 0s - loss: 1.1645 - accuracy: 0.5887\n",
            "\n",
            "[#] Generating some Anime:\n",
            "Lui\n",
            "Byukane\n",
            "Zuukiko\n",
            "Hiroki\n",
            "Gasako\n",
            "Izumi\n",
            "Rin\n",
            "\n",
            "\n",
            "81/81 [==============================] - 18s 229ms/step - loss: 1.1633 - accuracy: 0.5892\n",
            "Epoch 72/128\n",
            "81/81 [==============================] - 0s 4ms/step - loss: 1.1551 - accuracy: 0.5864\n",
            "Epoch 73/128\n",
            "81/81 [==============================] - 0s 4ms/step - loss: 1.1423 - accuracy: 0.6012\n",
            "Epoch 74/128\n",
            "81/81 [==============================] - 0s 5ms/step - loss: 1.1458 - accuracy: 0.5997\n",
            "Epoch 75/128\n",
            "81/81 [==============================] - 1s 6ms/step - loss: 1.1434 - accuracy: 0.5970\n",
            "Epoch 76/128\n",
            "81/81 [==============================] - 0s 6ms/step - loss: 1.1292 - accuracy: 0.6048\n",
            "Epoch 77/128\n",
            "81/81 [==============================] - 0s 6ms/step - loss: 1.1291 - accuracy: 0.6016\n",
            "Epoch 78/128\n",
            "81/81 [==============================] - 1s 6ms/step - loss: 1.1354 - accuracy: 0.5981\n",
            "Epoch 79/128\n",
            "81/81 [==============================] - 0s 4ms/step - loss: 1.1230 - accuracy: 0.5970\n",
            "Epoch 80/128\n",
            "81/81 [==============================] - 0s 4ms/step - loss: 1.1120 - accuracy: 0.5993\n",
            "Epoch 81/128\n",
            "78/81 [===========================>..] - ETA: 0s - loss: 1.1109 - accuracy: 0.6026\n",
            "\n",
            "[#] Generating some Anime:\n",
            "Emiko\n",
            "Umiko\n",
            "Emiko\n",
            "Wakara\n",
            "Byakaye\n",
            "Hiroki\n",
            "Omika\n",
            "\n",
            "\n",
            "81/81 [==============================] - 2s 28ms/step - loss: 1.1099 - accuracy: 0.6048\n",
            "Epoch 82/128\n",
            "81/81 [==============================] - 0s 4ms/step - loss: 1.1043 - accuracy: 0.6192\n",
            "Epoch 83/128\n",
            "81/81 [==============================] - 0s 4ms/step - loss: 1.1059 - accuracy: 0.6071\n",
            "Epoch 84/128\n",
            "81/81 [==============================] - 0s 4ms/step - loss: 1.1059 - accuracy: 0.6059\n",
            "Epoch 85/128\n",
            "81/81 [==============================] - 0s 4ms/step - loss: 1.0950 - accuracy: 0.6122\n",
            "Epoch 86/128\n",
            "81/81 [==============================] - 0s 4ms/step - loss: 1.0927 - accuracy: 0.6122\n",
            "Epoch 87/128\n",
            "81/81 [==============================] - 0s 4ms/step - loss: 1.0811 - accuracy: 0.6161\n",
            "Epoch 88/128\n",
            "81/81 [==============================] - 0s 4ms/step - loss: 1.0850 - accuracy: 0.6157\n",
            "Epoch 89/128\n",
            "81/81 [==============================] - 0s 4ms/step - loss: 1.0681 - accuracy: 0.6196\n",
            "Epoch 90/128\n",
            "81/81 [==============================] - 0s 4ms/step - loss: 1.0726 - accuracy: 0.6204\n",
            "Epoch 91/128\n",
            "81/81 [==============================] - ETA: 0s - loss: 1.0739 - accuracy: 0.6165\n",
            "\n",
            "[#] Generating some Anime:\n",
            "Deidara\n",
            "Deidara\n",
            "Rin\n",
            "Goko\n",
            "Hiroki\n",
            "Chieko\n",
            "Omika\n",
            "\n",
            "\n",
            "81/81 [==============================] - 3s 35ms/step - loss: 1.0739 - accuracy: 0.6165\n",
            "Epoch 92/128\n",
            "81/81 [==============================] - 0s 4ms/step - loss: 1.0659 - accuracy: 0.6243\n",
            "Epoch 93/128\n",
            "81/81 [==============================] - 0s 4ms/step - loss: 1.0676 - accuracy: 0.6231\n",
            "Epoch 94/128\n",
            "81/81 [==============================] - 0s 4ms/step - loss: 1.0624 - accuracy: 0.6153\n",
            "Epoch 95/128\n",
            "81/81 [==============================] - 0s 5ms/step - loss: 1.0553 - accuracy: 0.6145\n",
            "Epoch 96/128\n",
            "81/81 [==============================] - 0s 6ms/step - loss: 1.0441 - accuracy: 0.6243\n",
            "Epoch 97/128\n",
            "81/81 [==============================] - 1s 6ms/step - loss: 1.0428 - accuracy: 0.6274\n",
            "Epoch 98/128\n",
            "81/81 [==============================] - 0s 6ms/step - loss: 1.0480 - accuracy: 0.6270\n",
            "Epoch 99/128\n",
            "81/81 [==============================] - 1s 6ms/step - loss: 1.0319 - accuracy: 0.6278\n",
            "Epoch 100/128\n",
            "81/81 [==============================] - 0s 4ms/step - loss: 1.0373 - accuracy: 0.6270\n",
            "Epoch 101/128\n",
            "81/81 [==============================] - ETA: 0s - loss: 1.0202 - accuracy: 0.6313\n",
            "\n",
            "[#] Generating some Anime:\n",
            "Natsuki\n",
            "Tokio\n",
            "Byakuya\n",
            "Yuki\n",
            "Miko\n",
            "Zuuko\n",
            "Shinobu\n",
            "\n",
            "\n",
            "81/81 [==============================] - 2s 27ms/step - loss: 1.0202 - accuracy: 0.6313\n",
            "Epoch 102/128\n",
            "81/81 [==============================] - 0s 4ms/step - loss: 1.0241 - accuracy: 0.6356\n",
            "Epoch 103/128\n",
            "81/81 [==============================] - 0s 4ms/step - loss: 1.0134 - accuracy: 0.6336\n",
            "Epoch 104/128\n",
            "81/81 [==============================] - 0s 4ms/step - loss: 1.0266 - accuracy: 0.6250\n",
            "Epoch 105/128\n",
            "81/81 [==============================] - 0s 4ms/step - loss: 1.0197 - accuracy: 0.6309\n",
            "Epoch 106/128\n",
            "81/81 [==============================] - 0s 4ms/step - loss: 1.0181 - accuracy: 0.6325\n",
            "Epoch 107/128\n",
            "81/81 [==============================] - 0s 4ms/step - loss: 1.0100 - accuracy: 0.6356\n",
            "Epoch 108/128\n",
            "81/81 [==============================] - 0s 4ms/step - loss: 1.0042 - accuracy: 0.6348\n",
            "Epoch 109/128\n",
            "81/81 [==============================] - 0s 4ms/step - loss: 0.9978 - accuracy: 0.6496\n",
            "Epoch 110/128\n",
            "81/81 [==============================] - 0s 4ms/step - loss: 1.0016 - accuracy: 0.6290\n",
            "Epoch 111/128\n",
            "77/81 [===========================>..] - ETA: 0s - loss: 0.9932 - accuracy: 0.6416\n",
            "\n",
            "[#] Generating some Anime:\n",
            "Zuuko\n",
            "Umiko\n",
            "Pegasus\n",
            "Emi\n",
            "Omika\n",
            "Tara\n",
            "Pegasus\n",
            "\n",
            "\n",
            "81/81 [==============================] - 2s 27ms/step - loss: 0.9988 - accuracy: 0.6379\n",
            "Epoch 112/128\n",
            "81/81 [==============================] - 0s 4ms/step - loss: 0.9920 - accuracy: 0.6371\n",
            "Epoch 113/128\n",
            "81/81 [==============================] - 0s 4ms/step - loss: 0.9942 - accuracy: 0.6356\n",
            "Epoch 114/128\n",
            "81/81 [==============================] - 0s 4ms/step - loss: 0.9923 - accuracy: 0.6395\n",
            "Epoch 115/128\n",
            "81/81 [==============================] - 0s 4ms/step - loss: 0.9869 - accuracy: 0.6329\n",
            "Epoch 116/128\n",
            "81/81 [==============================] - 0s 4ms/step - loss: 0.9827 - accuracy: 0.6356\n",
            "Epoch 117/128\n",
            "81/81 [==============================] - 0s 4ms/step - loss: 0.9806 - accuracy: 0.6422\n",
            "Epoch 118/128\n",
            "81/81 [==============================] - 0s 6ms/step - loss: 0.9834 - accuracy: 0.6442\n",
            "Epoch 119/128\n",
            "81/81 [==============================] - 0s 6ms/step - loss: 0.9696 - accuracy: 0.6446\n",
            "Epoch 120/128\n",
            "81/81 [==============================] - 1s 6ms/step - loss: 0.9684 - accuracy: 0.6430\n",
            "Epoch 121/128\n",
            "78/81 [===========================>..] - ETA: 0s - loss: 0.9704 - accuracy: 0.6442\n",
            "\n",
            "[#] Generating some Anime:\n",
            "Umiko\n",
            "Chieko\n",
            "Chieko\n",
            "Miko\n",
            "Jiro\n",
            "Miko\n",
            "Rin\n",
            "\n",
            "\n",
            "81/81 [==============================] - 2s 27ms/step - loss: 0.9731 - accuracy: 0.6434\n",
            "Epoch 122/128\n",
            "81/81 [==============================] - 0s 4ms/step - loss: 0.9636 - accuracy: 0.6368\n",
            "Epoch 123/128\n",
            "81/81 [==============================] - 0s 4ms/step - loss: 0.9661 - accuracy: 0.6449\n",
            "Epoch 124/128\n",
            "81/81 [==============================] - 0s 4ms/step - loss: 0.9546 - accuracy: 0.6524\n",
            "Epoch 125/128\n",
            "81/81 [==============================] - 0s 4ms/step - loss: 0.9651 - accuracy: 0.6395\n",
            "Epoch 126/128\n",
            "81/81 [==============================] - 0s 4ms/step - loss: 0.9657 - accuracy: 0.6508\n",
            "Epoch 127/128\n",
            "81/81 [==============================] - 0s 4ms/step - loss: 0.9590 - accuracy: 0.6426\n",
            "Epoch 128/128\n",
            "81/81 [==============================] - 0s 4ms/step - loss: 0.9614 - accuracy: 0.6477\n"
          ]
        }
      ],
      "source": [
        "epochs = 128 #64\n",
        "history = model.fit(\n",
        "    X,Y,\n",
        "    epochs = epochs,\n",
        "    callbacks = [GenerateNameCallback()]\n",
        ")"
      ]
    },
    {
      "cell_type": "markdown",
      "source": [
        "##Generate Cool Anime Names"
      ],
      "metadata": {
        "id": "hHlKBB-twT3X"
      }
    },
    {
      "cell_type": "code",
      "execution_count": null,
      "metadata": {
        "id": "FBKsqM8QESlb"
      },
      "outputs": [],
      "source": [
        "def generate(n = 3):\n",
        "        print(f'[#] Generating {n} names of {file_path[:-4][0].upper() + file_path[:-4][1:]}:')\n",
        "        for _ in range(n):\n",
        "          name = generate_name()\n",
        "          if name != '':\n",
        "            print(name[0].upper() + name[1:])"
      ]
    },
    {
      "cell_type": "code",
      "source": [
        "# Number of names to be generated\n",
        "n = 5 # @param {type:\"integer\"}\n",
        "generate(n)"
      ],
      "metadata": {
        "colab": {
          "base_uri": "https://localhost:8080/"
        },
        "id": "DbTgaupIIXEG",
        "outputId": "68c325ab-72bd-413f-b550-4a4f76fa9755"
      },
      "execution_count": null,
      "outputs": [
        {
          "output_type": "stream",
          "name": "stdout",
          "text": [
            "[#] Generating 5 names of Anime:\n",
            "Haku\n",
            "Osayu\n",
            "Ume\n",
            "Imade\n",
            "Wakana\n",
            "Goek\n",
            "Rei\n"
          ]
        }
      ]
    }
  ],
  "metadata": {
    "accelerator": "GPU",
    "colab": {
      "provenance": []
    },
    "kernelspec": {
      "display_name": "Python 3",
      "name": "python3"
    },
    "language_info": {
      "name": "python"
    }
  },
  "nbformat": 4,
  "nbformat_minor": 0
}